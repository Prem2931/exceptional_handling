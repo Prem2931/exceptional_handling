{
 "cells": [
  {
   "cell_type": "code",
   "execution_count": 1,
   "id": "025a258f-a218-40d3-a395-5281d241e17a",
   "metadata": {},
   "outputs": [],
   "source": [
    "# 1. Discuss the scenarios where multithreading is preferable to multiprocessing and scenarios where multiprocessing is a better choice.\n",
    "\n",
    "# Ans->\n",
    "# Multithreading is preferable when the task involves I/O-bound operations, such as reading/writing to disk, network requests, or database operations.\n",
    "# Since these tasks spend a lot of time waiting, using threads can help execute multiple I/O-bound tasks concurrently without using much CPU.\n",
    "# Python’s Global Interpreter Lock (GIL) doesn’t block threads during I/O operations.\n",
    "\n",
    "# Multiprocessing is better for CPU-bound operations, where the tasks require heavy computations. \n",
    "# Since Python’s GIL limits true parallelism for CPU-bound tasks in a multithreaded environment, \n",
    "# using multiprocessing allows for parallel execution of processes on multiple CPU cores. \n",
    "# This is especially useful for tasks like data processing, matrix calculations, or encoding/decoding files."
   ]
  },
  {
   "cell_type": "code",
   "execution_count": 2,
   "id": "71d34028-55b5-4464-80e1-f9238c701900",
   "metadata": {},
   "outputs": [],
   "source": [
    "# 2. Describe what a process pool is and how it helps in managing multiple processes efficiently.\n",
    "\n",
    "# Ans->\n",
    "# A process pool is a collection of worker processes that can be reused to execute tasks in parallel. \n",
    "# This pool helps manage a fixed number of processes and distribute tasks to them efficiently, allowing better utilization of system resources. \n",
    "# Instead of creating and destroying processes repeatedly (which is expensive), the pool maintains these processes, reducing overhead.\n",
    "# The multiprocessing.Pool class in Python is commonly used to manage process pools."
   ]
  },
  {
   "cell_type": "code",
   "execution_count": 3,
   "id": "3580c1c7-c0f6-429f-8475-56e6ed66854b",
   "metadata": {},
   "outputs": [],
   "source": [
    "# 3. Explain what multiprocessing is and why it is used in Python programs.\n",
    "\n",
    "# Ans->\n",
    "# Multiprocessing is the ability to run multiple processes concurrently. Each process runs in its own memory space and can execute independently of others. \n",
    "# In Python, multiprocessing is used to achieve parallelism, especially for CPU-bound tasks, where multithreading would be inefficient due to Python's GIL.\n",
    "# By creating multiple processes, Python can take full advantage of multi-core CPUs to speed up computation-heavy tasks."
   ]
  },
  {
   "cell_type": "code",
   "execution_count": 4,
   "id": "94947fc2-94f0-48da-94c2-74127dc6cf64",
   "metadata": {},
   "outputs": [
    {
     "name": "stdout",
     "output_type": "stream",
     "text": [
      "Added 1\n",
      "Added 2\n",
      "Removed 1\n",
      "Added 3\n",
      "Removed 2\n",
      "Added 4\n",
      "Removed 3\n",
      "Added 5\n",
      "Removed 4\n",
      "Removed 5\n",
      "Final list:  []\n"
     ]
    }
   ],
   "source": [
    "# 4. Write a Python program using multithreading where one thread adds numbers to a list, and another\n",
    "# thread removes numbers from the list. Implement a mechanism to avoid race conditions using\n",
    "# threading.Lock.\n",
    "\n",
    "# Ans->\n",
    "import threading\n",
    "import time\n",
    "\n",
    "# shared resource\n",
    "numbers = []\n",
    "lock = threading.Lock()\n",
    "\n",
    "# Thread 1: Adds numbers to the list\n",
    "def add_nos():\n",
    "    for i in range(1,6):\n",
    "        with lock:\n",
    "            numbers.append(i)\n",
    "            print(f\"Added {i}\")\n",
    "        time.sleep(1)\n",
    "    \n",
    "# Thread 2: Removes numbers from the list\n",
    "def remove_nos():\n",
    "    for i in range(1, 6):\n",
    "        time.sleep(1) # Delay to ensure interleaved execution\n",
    "        with lock:\n",
    "            if numbers:\n",
    "                removed = numbers.pop(0)\n",
    "                print(f\"Removed {removed}\")\n",
    "\n",
    "# Create threads\n",
    "t1 = threading.Thread(target=add_nos)\n",
    "t2 = threading.Thread(target=remove_nos)\n",
    "\n",
    "# Start threads\n",
    "t1.start()\n",
    "t2.start()\n",
    "\n",
    "# Wait for threads to complete\n",
    "t1.join()\n",
    "t2.join()\n",
    "\n",
    "print(\"Final list: \", numbers)\n",
    "        "
   ]
  },
  {
   "cell_type": "code",
   "execution_count": 5,
   "id": "20dc2bf0-e819-46a7-b4b9-ec7e78b3ba6d",
   "metadata": {},
   "outputs": [],
   "source": [
    "# 5. Describe the methods and tools available in Python for safely sharing data between threads and\n",
    "# processes.\n",
    "\n",
    "# Ans->\n",
    "# For Threads:\n",
    "\n",
    "# threading.Lock(): Used to ensure mutual exclusion when multiple threads access shared data.\n",
    "# threading.RLock(): A reentrant lock, allowing a thread to acquire the lock multiple times.\n",
    "# threading.Condition(): Synchronization primitive that allows threads to wait until some condition is met.\n",
    "# threading.Semaphore(): Limits access to a shared resource by multiple threads.\n",
    "\n",
    "\n",
    "# For Processes:\n",
    "\n",
    "# multiprocessing.Queue(): A thread/process-safe queue to pass data between processes.\n",
    "# multiprocessing.Pipe(): A connection between two processes for direct data exchange.\n",
    "# multiprocessing.Manager(): Manages shared objects such as lists and dictionaries that can be used across processes."
   ]
  },
  {
   "cell_type": "code",
   "execution_count": 6,
   "id": "ed7a0048-599d-4fec-9512-04b225712cd2",
   "metadata": {},
   "outputs": [],
   "source": [
    "# 6. Discuss why it’s crucial to handle exceptions in concurrent programs and the techniques available for\n",
    "# doing so.\n",
    "\n",
    "# Ans->\n",
    "# Handling exceptions in concurrent programs is crucial because unhandled exceptions can lead to:\n",
    "\n",
    "# Silent Failures: Threads or processes might fail silently, leaving the program in an inconsistent state.\n",
    "# Data Corruption: If an exception occurs while shared data is being modified, it could corrupt the data.\n",
    "# Deadlocks: An exception can cause a lock to remain acquired, preventing other threads or processes from proceeding, leading to a deadlock.\n",
    "\n",
    "# Techniques for handling exceptions:\n",
    "\n",
    "# try-except blocks: Ensure that any critical section of code that could raise an exception is protected.\n",
    "# Thread and Process Pool Executors: They provide methods like submit() and as_completed(), which return futures where exceptions can be handled."
   ]
  },
  {
   "cell_type": "code",
   "execution_count": 7,
   "id": "9dd279ee-c5f7-4145-b962-5f9d5787d52c",
   "metadata": {},
   "outputs": [
    {
     "name": "stdout",
     "output_type": "stream",
     "text": [
      "Factorials:  [1, 2, 6, 24, 120, 720, 5040, 40320, 362880, 3628800]\n"
     ]
    }
   ],
   "source": [
    "# 7. Create a program that uses a thread pool to calculate the factorial of numbers from 1 to 10 concurrently.\n",
    "# Use concurrent.futures.ThreadPoolExecutor to manage the threads.\n",
    "\n",
    "# code->\n",
    "from concurrent.futures import ThreadPoolExecutor\n",
    "import math\n",
    "\n",
    "# Function to calculate factorial\n",
    "def factorial(n):\n",
    "    return math.factorial(n)\n",
    "\n",
    "# Numbers to calculate factorial for\n",
    "numbers = [1,2,3,4,5,6,7,8,9,10]\n",
    "\n",
    "# Using ThreadPoolExecutor to calculate factorials concurrently\n",
    "with ThreadPoolExecutor() as executor:\n",
    "    results = list(executor.map(factorial, numbers))\n",
    "\n",
    "print(\"Factorials: \", results)"
   ]
  },
  {
   "cell_type": "code",
   "execution_count": 8,
   "id": "53ee0b9c-12c8-4025-8a38-2a2f0ceca1ca",
   "metadata": {},
   "outputs": [
    {
     "name": "stdout",
     "output_type": "stream",
     "text": [
      "Pool size: 2, Time taken: 0.0255 seconds\n",
      "Results: [1, 4, 9, 16, 25, 36, 49, 64, 81, 100]\n",
      "Pool size: 4, Time taken: 0.0446 seconds\n",
      "Results: [1, 4, 9, 16, 25, 36, 49, 64, 81, 100]\n",
      "Pool size: 8, Time taken: 0.0665 seconds\n",
      "Results: [1, 4, 9, 16, 25, 36, 49, 64, 81, 100]\n"
     ]
    }
   ],
   "source": [
    "# 8. Create a Python program that uses multiprocessing.Pool to compute the square of numbers from 1 to 10 in\n",
    "# parallel. Measure the time taken to perform this computation using a pool of different sizes (e.g., 2, 4, 8\n",
    "# processes).\n",
    "\n",
    "# code->\n",
    "import multiprocessing\n",
    "import time\n",
    "\n",
    "# Function to compute square of a number\n",
    "def compute_square(n):\n",
    "    return n*n\n",
    "\n",
    "# Numbers to compute square for\n",
    "numbers = [1,2,3,4,5,6,7,8,9,10]\n",
    "\n",
    "# Function to measure time for different pool sizes\n",
    "def measure_pool_time(pool_size):\n",
    "    start_time = time.time()\n",
    "    with multiprocessing.Pool(pool_size) as pool:\n",
    "        results = pool.map(compute_square, numbers)\n",
    "    end_time = time.time()\n",
    "    \n",
    "    print(f\"Pool size: {pool_size}, Time taken: {end_time - start_time:.4f} seconds\")\n",
    "    print(f\"Results: {results}\")\n",
    "\n",
    "# Measure time for pool sizes 2, 4, and 8\n",
    "for pool_size in [2,4,8]:\n",
    "    measure_pool_time(pool_size)"
   ]
  },
  {
   "cell_type": "code",
   "execution_count": null,
   "id": "f376475e-5937-4b78-883f-e5d065fa12dc",
   "metadata": {},
   "outputs": [],
   "source": []
  }
 ],
 "metadata": {
  "kernelspec": {
   "display_name": "Python 3 (ipykernel)",
   "language": "python",
   "name": "python3"
  },
  "language_info": {
   "codemirror_mode": {
    "name": "ipython",
    "version": 3
   },
   "file_extension": ".py",
   "mimetype": "text/x-python",
   "name": "python",
   "nbconvert_exporter": "python",
   "pygments_lexer": "ipython3",
   "version": "3.10.8"
  }
 },
 "nbformat": 4,
 "nbformat_minor": 5
}
